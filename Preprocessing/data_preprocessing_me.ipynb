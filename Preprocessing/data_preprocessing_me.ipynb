{
 "cells": [
  {
   "cell_type": "code",
   "execution_count": 1,
   "metadata": {},
   "outputs": [],
   "source": [
    "import numpy as np\n",
    "import matplotlib.pyplot as plt\n",
    "import pandas as pd"
   ]
  },
  {
   "cell_type": "code",
   "execution_count": 2,
   "metadata": {},
   "outputs": [
    {
     "data": {
      "text/plain": [
       "array(['No', 'Yes', 'No', 'No', 'Yes', 'Yes', 'No', 'Yes', 'No', 'Yes'],\n",
       "      dtype=object)"
      ]
     },
     "execution_count": 2,
     "metadata": {},
     "output_type": "execute_result"
    }
   ],
   "source": [
    "dataset = pd.read_csv('Data.csv')\n",
    "# dataset\n",
    "x = dataset.iloc[:,:-1].values #feture\n",
    "y = dataset.iloc[:,-1].values #depending variable\n",
    "# .values converts the data into array form \n",
    "y"
   ]
  },
  {
   "cell_type": "code",
   "execution_count": 3,
   "metadata": {},
   "outputs": [],
   "source": [
    "#to take care of missing data\n",
    "#this will put the mean of the data in the cloumn and put that value in the missing data\n",
    "from sklearn.impute import SimpleImputer\n",
    "imputer = SimpleImputer(missing_values=np.nan,strategy='mean')\n",
    "#imputer is obj of class simpleimputer\n",
    "imputer.fit(x[:,1:])\n",
    "# print(x)\n",
    "x[:,1:]=imputer.transform(x[:,1:])\n",
    "# print('\\n')\n",
    "# print(x)"
   ]
  },
  {
   "cell_type": "code",
   "execution_count": 7,
   "metadata": {},
   "outputs": [],
   "source": [
    "# we need all our data in text formate for modal to understand\n",
    "# so we have to turn country name and yes/no into some number\n",
    "# but we cant turn country name into 0,1,2 that will give them unnessesury precidance\n",
    "# so we'll use enconding it will turn countery into some code\n",
    "# this type of encoding is called one hot encoding\n",
    "\n",
    "from sklearn.compose import ColumnTransformer\n",
    "from sklearn.preprocessing import OneHotEncoder\n",
    "ct = ColumnTransformer(transformers=[('encoder',OneHotEncoder(),[0])],remainder='passthrough')\n",
    "# here we are conveting x into numpy array bcoz our modal takes input in only numpy array fromate\n",
    "x = np.array(ct.fit_transform(x))\n",
    "# print(x)\n",
    "\n",
    "# for y \n",
    "# now y is just cosist of yes and no\n",
    "# so we'll convert them into 1 and 0 no=0,yes=1\n",
    "\n",
    "from sklearn.preprocessing import LabelEncoder\n",
    "le = LabelEncoder()\n",
    "y = le.fit_transform(y)\n",
    "# print(y)"
   ]
  },
  {
   "cell_type": "code",
   "execution_count": 8,
   "metadata": {},
   "outputs": [
    {
     "name": "stdout",
     "output_type": "stream",
     "text": [
      "[[0.0 1.0 0.0 0.0 1.0 38.77777777777778 52000.0]\n",
      " [0.0 1.0 0.0 1.0 0.0 40.0 63777.77777777778]\n",
      " [1.0 0.0 1.0 0.0 0.0 44.0 72000.0]\n",
      " [0.0 1.0 0.0 0.0 1.0 38.0 61000.0]\n",
      " [0.0 1.0 0.0 0.0 1.0 27.0 48000.0]\n",
      " [1.0 0.0 1.0 0.0 0.0 48.0 79000.0]\n",
      " [0.0 1.0 0.0 1.0 0.0 50.0 83000.0]\n",
      " [1.0 0.0 1.0 0.0 0.0 35.0 58000.0]]\n",
      "[[0.0 1.0 0.0 1.0 0.0 30.0 54000.0]\n",
      " [1.0 0.0 1.0 0.0 0.0 37.0 67000.0]]\n",
      "[0 1 0 0 1 1 0 1]\n",
      "[0 1]\n"
     ]
    }
   ],
   "source": [
    "# now we'll split the data into training set and test set\n",
    "from sklearn.model_selection import train_test_split\n",
    "x_train, x_test, y_train, y_test = train_test_split(x,y,test_size=0.2,random_state=1)\n",
    "# print(x_train)\n",
    "# print(x_test)\n",
    "# print(y_train)\n",
    "# print(y_test)"
   ]
  },
  {
   "cell_type": "code",
   "execution_count": 12,
   "metadata": {},
   "outputs": [
    {
     "name": "stdout",
     "output_type": "stream",
     "text": [
      "[[0.0 1.0 0.0 1.0 -6.162975822039156e-33 30.0 54000.0]\n",
      " [1.0 0.0 1.0 1.249000902703301e-16 -6.162975822039156e-33 37.0 67000.0]]\n"
     ]
    }
   ],
   "source": [
    "# feature scelling\n",
    "# only should be done after you splitt the data \n",
    "# so training data doesnt leak into testing data and also if we apply it brfore it'll take the mean of whole data\n",
    "# normlisetion only works for only normal distribution \n",
    "# standerdisation works all the time  \n",
    "# dont apply feature scalling on dammy vars ie contry in this data\n",
    "from sklearn.preprocessing import StandardScaler\n",
    "sc = StandardScaler()\n",
    "x_train[:,3:] = sc.fit_transform(x_train[:,3:])\n",
    "# [:,3:] bcoz column 0,1 and 2 are taken by our contry name conversion\n",
    "x_test[:,3:] = sc.transform(x_test[:,3:])\n",
    "# for test only use transform because we dont want to change the scaler\n",
    "# print(x_test)"
   ]
  }
 ],
 "metadata": {
  "kernelspec": {
   "display_name": "Python 3",
   "language": "python",
   "name": "python3"
  },
  "language_info": {
   "codemirror_mode": {
    "name": "ipython",
    "version": 3
   },
   "file_extension": ".py",
   "mimetype": "text/x-python",
   "name": "python",
   "nbconvert_exporter": "python",
   "pygments_lexer": "ipython3",
   "version": "3.9.13"
  }
 },
 "nbformat": 4,
 "nbformat_minor": 2
}
